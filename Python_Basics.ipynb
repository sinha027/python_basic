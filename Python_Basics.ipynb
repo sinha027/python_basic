{
  "nbformat": 4,
  "nbformat_minor": 0,
  "metadata": {
    "colab": {
      "provenance": []
    },
    "kernelspec": {
      "name": "python3",
      "display_name": "Python 3"
    },
    "language_info": {
      "name": "python"
    }
  },
  "cells": [
    {
      "cell_type": "code",
      "execution_count": null,
      "metadata": {
        "id": "m7UdXBAz40rP"
      },
      "outputs": [],
      "source": []
    },
    {
      "cell_type": "markdown",
      "source": [
        "# Theoretical Questions"
      ],
      "metadata": {
        "id": "D4sD8ZOkysBM"
      }
    },
    {
      "cell_type": "markdown",
      "source": [
        "1. What is Python, and why is it popular?\n",
        "\n",
        "   - Python is a high-level, interpreted language that is easy to read and write. It's widely used due to its simplicity, extensive library ecosystem, and applications in various domains such as web development, data science, AI, automation, and more.\n",
        "\n",
        "2. What is an interpreter in Python?\n",
        "\n",
        "  - An interpreter is a program that translates and executes Python line by line rather than compiling in bulk. It is easier to debug this way but can sometimes be slower than compiled languages.\n",
        "\n",
        "3. What are pre-defined keywords in Python?\n",
        "\n",
        "  - Pre-defined keywords are reserved words in Python that have special meanings, like if, else, while, for, def, class, and import. we cannot use them as variable names.\n",
        "\n",
        "4. Can keywords be used as variable names?\n",
        "\n",
        "  - No, Since keywords serve specific functions in Python, using them as variable names would cause syntax errors.\n",
        "\n",
        "5. What is mutability in Python?\n",
        "\n",
        "  - an object's value can be altered once it's been created. If an object is mutable, its contents can be altered, if it's immutable, it can't be altered once it's been assigned.\n",
        "\n",
        "6. Why are lists mutable, but tuples are immutable?\n",
        "\n",
        "  - Lists are mutable, allowing for changes to elements by adding to, taking away, or modifying them. Tuples are immutable, meaning that once they are created, none of their contents can be modified. They are therefore more memory efficient and can work well as fixed data.\n",
        "\n",
        "7. What is the difference between “==” and “is” operators in Python?\n",
        "\n",
        "  - == checks if two values are equal (same content).\n",
        "  - is checks if two variables refer to the same memory location.\n",
        "- Example\n",
        "            a = [1, 2, 3]  \n",
        "            b = [1, 2, 3]  \n",
        "print(a == b)  # True (same values)  \n",
        "print(a is b)  # False (different objects in memory)\n",
        "\n",
        "8. What are logical operators in Python?\n",
        "\n",
        "  - Logical operators allow for combining conditional statements:\n",
        "\n",
        "      and → Both conditions must be true.\n",
        "\n",
        "      or → At least one condition must be true.\n",
        "\n",
        "      not → Reverses the condition.\n",
        "\n",
        "      x = 10\n",
        "      print(x > 5 and x < 20)  # True\n",
        "      print(x > 5 or x < 5)    # True\n",
        "      print(not (x > 5))       # False\n",
        "\n",
        "\n",
        "9. What is type casting in Python?\n",
        "\n",
        "  -   Type casting is converting one data type into another.\n",
        "      Python allows both implicit (automatic) and explicit (manual) type casting.\n",
        "\n",
        "10. What is the difference between implicit and explicit type casting?\n",
        "\n",
        "  - Implicit type casting\n",
        "    - Automatically converts smaller data types to larger ones to prevent data loss.\n",
        "      x = 5  # int\n",
        "      y = 2.5  # float\n",
        "      z = x + y  # Python converts x to float\n",
        "      print(z)  # 7.5 (float)\n",
        "\n",
        "  - Explicit type casting:\n",
        "    - We manually convert types using functions like int(), float(), str().\n",
        "\n",
        "      num = \"10\"\n",
        "      print(int(num) + 5)  # 15\n",
        "\n",
        "    \n",
        "11. What is the purpose of conditional statements in Python?\n",
        "\n",
        "  - Conditional statements (if, elif, else) allow Python programs to make decisions and execute different code based on conditions.\n",
        "\n",
        "12. How does the elif statement work?\n",
        "\n",
        "  - elif (short for \"else if\") allows multiple conditions to be checked one after another. If the if condition is false, Python moves to elif, and if none are true, it executes else.\n",
        "\n",
        "Example:\n",
        "\n",
        "      x = 10\n",
        "      if x > 15:\n",
        "       print(\"Greater than 15\")\n",
        "        elif x > 5:\n",
        "        print(\"Between 5 and 15\")  # This runs\n",
        "        else:\n",
        "        print(\"5 or less\")\n",
        "\n",
        "13. What is the difference between for and while loops?\n",
        "\n",
        "      for loop → Used when the number of iterations is known beforehand (looping through lists, ranges, etc.).\n",
        "\n",
        "      while loop → Used when the number of iterations is not known in advance (runs until a condition becomes false).\n",
        "\n",
        "      Example:\n",
        "\n",
        "\n",
        "      for i in range(5):  \n",
        "      print(i)  # Prints 0 to 4\n",
        "\n",
        "      x = 0\n",
        "      while x < 5:  \n",
        "      print(x)  \n",
        "      x += 1  # Also prints 0 to 4\n",
        "\n",
        "14. Describe a scenario where a while loop is more suitable than a for loop.\n",
        "\n",
        "  -  A while loop is better when we don’t know how many times the loop should run.\n",
        "\n",
        "      Example: Suppose we ask a user to enter a number greater than 10. Since we don’t know how many tries they’ll take, a while loop is ideal:\n",
        "\n",
        "\n",
        "      num = int(input(\"Enter a number greater than 10: \"))\n",
        "      while num <= 10:\n",
        "      print(\"Try again!\")\n",
        "      num = int(input(\"Enter a number greater than 10: \"))\n",
        "      print(\"Thank you!\")"
      ],
      "metadata": {
        "id": "55AllTLF59hT"
      }
    },
    {
      "cell_type": "code",
      "source": [],
      "metadata": {
        "id": "BUM_4yGC9lDd"
      },
      "execution_count": null,
      "outputs": []
    },
    {
      "cell_type": "markdown",
      "source": [
        "# Practical Questions"
      ],
      "metadata": {
        "id": "-smP_Y0myiDn"
      }
    },
    {
      "cell_type": "markdown",
      "source": [
        "1. Write a Python program to print \"Hello, World!"
      ],
      "metadata": {
        "id": "JVFw6LZqzAwQ"
      }
    },
    {
      "cell_type": "code",
      "source": [
        "print(\"Hello, World!\")"
      ],
      "metadata": {
        "colab": {
          "base_uri": "https://localhost:8080/"
        },
        "id": "nLqyoOeyzET2",
        "outputId": "310d17a3-f31b-422c-df3c-16a19c61b9e8"
      },
      "execution_count": 2,
      "outputs": [
        {
          "output_type": "stream",
          "name": "stdout",
          "text": [
            "Hello, World!\n"
          ]
        }
      ]
    },
    {
      "cell_type": "markdown",
      "source": [
        "2. Write a Python program that displays your name and age"
      ],
      "metadata": {
        "id": "jS03qR9CzZqv"
      }
    },
    {
      "cell_type": "code",
      "source": [
        "name = \"vivek sinha\"  # name\n",
        "age = 21              # age\n",
        "print(f\"My name is {name} and I am {age} years old.\")"
      ],
      "metadata": {
        "colab": {
          "base_uri": "https://localhost:8080/"
        },
        "id": "Ut32HBn7ynXG",
        "outputId": "1d001837-b45e-4d82-d0cd-aee90e8d5734"
      },
      "execution_count": 10,
      "outputs": [
        {
          "output_type": "stream",
          "name": "stdout",
          "text": [
            "My name is vivek sinha and I am 21 years old.\n"
          ]
        }
      ]
    },
    {
      "cell_type": "markdown",
      "source": [
        "3. Write code to print all the pre-defined keywords in Python using the keyword library."
      ],
      "metadata": {
        "id": "KdzVyjgRPdum"
      }
    },
    {
      "cell_type": "code",
      "source": [
        "import keyword\n",
        "print(\"Python Keywords:\")\n",
        "for kw in keyword.kwlist:\n",
        "    print(kw)"
      ],
      "metadata": {
        "colab": {
          "base_uri": "https://localhost:8080/"
        },
        "id": "5NchKrA4ymHO",
        "outputId": "ed301871-373c-4c77-d2a3-4cb8becc6f69"
      },
      "execution_count": 11,
      "outputs": [
        {
          "output_type": "stream",
          "name": "stdout",
          "text": [
            "Python Keywords:\n",
            "False\n",
            "None\n",
            "True\n",
            "and\n",
            "as\n",
            "assert\n",
            "async\n",
            "await\n",
            "break\n",
            "class\n",
            "continue\n",
            "def\n",
            "del\n",
            "elif\n",
            "else\n",
            "except\n",
            "finally\n",
            "for\n",
            "from\n",
            "global\n",
            "if\n",
            "import\n",
            "in\n",
            "is\n",
            "lambda\n",
            "nonlocal\n",
            "not\n",
            "or\n",
            "pass\n",
            "raise\n",
            "return\n",
            "try\n",
            "while\n",
            "with\n",
            "yield\n"
          ]
        }
      ]
    },
    {
      "cell_type": "markdown",
      "source": [
        "4. 4. Write a program that checks if a given word is a Python keyword."
      ],
      "metadata": {
        "id": "ywaBZTxAP0dI"
      }
    },
    {
      "cell_type": "code",
      "source": [
        "import keyword\n",
        "\n",
        "def is_python_keyword(word):\n",
        "    return keyword.iskeyword(word)\n",
        "\n",
        "# Test examples\n",
        "print(is_python_keyword(\"if\"))      # True\n",
        "print(is_python_keyword(\"python\"))  # False"
      ],
      "metadata": {
        "colab": {
          "base_uri": "https://localhost:8080/"
        },
        "id": "6tt3ICZqPsS1",
        "outputId": "262f193d-8420-40a1-9085-c6a1f0238dc5"
      },
      "execution_count": 14,
      "outputs": [
        {
          "output_type": "stream",
          "name": "stdout",
          "text": [
            "Enter a word: print\n",
            "'print' is a keyword: False\n"
          ]
        }
      ]
    },
    {
      "cell_type": "markdown",
      "source": [
        "5. Create a list and tuple in Python, and demonstrate how attempting to change an element works differently\n",
        "for each"
      ],
      "metadata": {
        "id": "wy7nv50gQEvY"
      }
    },
    {
      "cell_type": "code",
      "source": [
        "# List demonstration - mutable\n",
        "my_list = [1, 2, 3, 4, 5]\n",
        "print(\"Original list:\", my_list)\n",
        "my_list[2] = 10  # Changing an element in a list (works fine)\n",
        "print(\"Modified list:\", my_list)\n",
        "\n",
        "# Tuple demonstration - immutable\n",
        "my_tuple = (1, 2, 3, 4, 5)\n",
        "print(\"Original tuple:\", my_tuple)\n",
        "try:\n",
        "    my_tuple[2] = 10  # Attempting to change an element in a tuple (will cause error)\n",
        "    print(\"Modified tuple:\", my_tuple)\n",
        "except TypeError as e:\n",
        "    print(\"Error when modifying tuple:\", e)\n"
      ],
      "metadata": {
        "colab": {
          "base_uri": "https://localhost:8080/"
        },
        "id": "n2pyYhfXPyq9",
        "outputId": "5121e5e0-1373-4099-fb8a-d3d08ecfaa02"
      },
      "execution_count": 15,
      "outputs": [
        {
          "output_type": "stream",
          "name": "stdout",
          "text": [
            "Original list: [1, 2, 3, 4, 5]\n",
            "Modified list: [1, 2, 10, 4, 5]\n",
            "Original tuple: (1, 2, 3, 4, 5)\n",
            "Error when modifying tuple: 'tuple' object does not support item assignment\n"
          ]
        }
      ]
    },
    {
      "cell_type": "markdown",
      "source": [
        "6. Write a function to demonstrate the behavior of mutable and immutable arguments."
      ],
      "metadata": {
        "id": "9WV-ddL1QN9o"
      }
    },
    {
      "cell_type": "code",
      "source": [
        "def demonstrate_mutability(immutable_arg, mutable_arg):\n",
        "    print(\"Before modification:\")\n",
        "    print(f\"Immutable argument (inside): {immutable_arg}\")\n",
        "    print(f\"Mutable argument (inside): {mutable_arg}\")\n",
        "\n",
        "    # Try to modify both arguments\n",
        "    immutable_arg += 10  # For numbers, strings, tuples - creates a new object\n",
        "    mutable_arg.append(4)  # For lists, dictionaries, sets - modifies the existing object\n",
        "\n",
        "    print(\"After modification (inside function):\")\n",
        "    print(f\"Immutable argument (inside): {immutable_arg}\")\n",
        "    print(f\"Mutable argument (inside): {mutable_arg}\")\n",
        "\n",
        "# Test with number (immutable) and list (mutable)\n",
        "number = 5\n",
        "my_list = [1, 2, 3]\n",
        "\n",
        "print(f\"Original number (outside): {number}\")\n",
        "print(f\"Original list (outside): {my_list}\")\n",
        "\n",
        "demonstrate_mutability(number, my_list)\n",
        "\n",
        "print(\"After function call:\")\n",
        "print(f\"Number (outside): {number}\")  # Unchanged\n",
        "print(f\"List (outside): {my_list}\")   # Changed"
      ],
      "metadata": {
        "colab": {
          "base_uri": "https://localhost:8080/"
        },
        "id": "mA3TAd0KQMmf",
        "outputId": "e0c69824-49de-4aa1-ef2d-672adae53748"
      },
      "execution_count": 16,
      "outputs": [
        {
          "output_type": "stream",
          "name": "stdout",
          "text": [
            "Original number (outside): 5\n",
            "Original list (outside): [1, 2, 3]\n",
            "Before modification:\n",
            "Immutable argument (inside): 5\n",
            "Mutable argument (inside): [1, 2, 3]\n",
            "After modification (inside function):\n",
            "Immutable argument (inside): 15\n",
            "Mutable argument (inside): [1, 2, 3, 4]\n",
            "After function call:\n",
            "Number (outside): 5\n",
            "List (outside): [1, 2, 3, 4]\n"
          ]
        }
      ]
    },
    {
      "cell_type": "markdown",
      "source": [
        "8.Write a program to demonstrate the use of logical operators."
      ],
      "metadata": {
        "id": "vKDsUnGrQdu4"
      }
    },
    {
      "cell_type": "code",
      "source": [
        "x = 5\n",
        "y = 10\n",
        "z = 15\n",
        "\n",
        "print(f\"x = {x}, y = {y}, z = {z}\")\n",
        "print(f\"x < y and y < z: {x < y and y < z}\")  # True and True = True\n",
        "print(f\"x > y or y < z: {x > y or y < z}\")    # False or True = True\n",
        "print(f\"not(x > y): {not(x > y)}\")            # not False = True\n",
        "print(f\"x < y < z: {x < y < z}\")              # Chained comparison, same as x < y and y < z\n"
      ],
      "metadata": {
        "colab": {
          "base_uri": "https://localhost:8080/"
        },
        "id": "Hp_c0oyCQciI",
        "outputId": "29756fa9-1c78-41f3-c759-1862deb9e52e"
      },
      "execution_count": 17,
      "outputs": [
        {
          "output_type": "stream",
          "name": "stdout",
          "text": [
            "x = 5, y = 10, z = 15\n",
            "x < y and y < z: True\n",
            "x > y or y < z: True\n",
            "not(x > y): True\n",
            "x < y < z: True\n"
          ]
        }
      ]
    },
    {
      "cell_type": "markdown",
      "source": [
        "9.  Write a Python program to convert user input from string to integer, float, and boolean types."
      ],
      "metadata": {
        "id": "PTVi7yVsRcGf"
      }
    },
    {
      "cell_type": "code",
      "source": [
        "def convert_input_types():\n",
        "    # Get string input\n",
        "    str_input = input(\"Enter a string: \")\n",
        "    print(f\"String: {str_input}, Type: {type(str_input)}\")\n",
        "\n",
        "    # Convert to integer\n",
        "    int_input = input(\"Enter an integer: \")\n",
        "    try:\n",
        "        int_value = int(int_input)\n",
        "        print(f\"Integer: {int_value}, Type: {type(int_value)}\")\n",
        "    except ValueError:\n",
        "        print(\"That's not a valid integer!\")\n",
        "\n",
        "    # Convert to float\n",
        "    float_input = input(\"Enter a float: \")\n",
        "    try:\n",
        "        float_value = float(float_input)\n",
        "        print(f\"Float: {float_value}, Type: {type(float_value)}\")\n",
        "    except ValueError:\n",
        "        print(\"That's not a valid float!\")\n",
        "\n",
        "    # Convert to boolean\n",
        "    bool_input = input(\"Enter True or False: \")\n",
        "    # Custom conversion since bool() doesn't work as expected with strings\n",
        "    if bool_input.lower() == \"true\":\n",
        "        bool_value = True\n",
        "    elif bool_input.lower() == \"false\":\n",
        "        bool_value = False\n",
        "    else:\n",
        "        print(\"That's not a valid boolean!\")\n",
        "        bool_value = None\n",
        "\n",
        "    print(f\"Boolean: {bool_value}, Type: {type(bool_value)}\")\n",
        "\n",
        "# Note: I'm not executing convert_input_types() here since it requires user input"
      ],
      "metadata": {
        "id": "BsaAV61xRXQo"
      },
      "execution_count": 21,
      "outputs": []
    },
    {
      "cell_type": "markdown",
      "source": [
        "10. Write code to demonstrate type casting with list elements."
      ],
      "metadata": {
        "id": "bN6QMTprRlGY"
      }
    },
    {
      "cell_type": "code",
      "source": [
        "mixed_list = [\"10\", \"20.5\", \"30\", \"40.8\"]\n",
        "print(\"Original list:\", mixed_list)\n",
        "\n",
        "# Cast to integers (where possible)\n",
        "try:\n",
        "    int_list = [int(item) for item in mixed_list]\n",
        "    print(\"Integer cast list:\", int_list)\n",
        "except ValueError:\n",
        "    print(\"Not all elements could be cast to integers\")\n",
        "\n",
        "# Cast to floats\n",
        "float_list = [float(item) for item in mixed_list]\n",
        "print(\"Float cast list:\", float_list)\n",
        "\n",
        "# Cast float list back to strings\n",
        "str_list = [str(item) for item in float_list]\n",
        "print(\"String cast list:\", str_list)"
      ],
      "metadata": {
        "colab": {
          "base_uri": "https://localhost:8080/"
        },
        "id": "PNGLhCwMRhti",
        "outputId": "cfdcd09b-5f74-44bd-e745-107e20f1cde1"
      },
      "execution_count": 22,
      "outputs": [
        {
          "output_type": "stream",
          "name": "stdout",
          "text": [
            "Original list: ['10', '20.5', '30', '40.8']\n",
            "Not all elements could be cast to integers\n",
            "Float cast list: [10.0, 20.5, 30.0, 40.8]\n",
            "String cast list: ['10.0', '20.5', '30.0', '40.8']\n"
          ]
        }
      ]
    },
    {
      "cell_type": "markdown",
      "source": [
        "11. Write a program that checks if a number is positive, negative, or zero."
      ],
      "metadata": {
        "id": "bvLC31u6RwXv"
      }
    },
    {
      "cell_type": "code",
      "source": [
        "def check_number_sign(num):\n",
        "    if num > 0:\n",
        "        return \"Positive\"\n",
        "    elif num < 0:\n",
        "        return \"Negative\"\n",
        "    else:\n",
        "        return \"Zero\"\n",
        "\n",
        "# Test examples\n",
        "print(check_number_sign(10))   # Positive\n",
        "print(check_number_sign(-5))   # Negative\n",
        "print(check_number_sign(0))    # Zero\n"
      ],
      "metadata": {
        "colab": {
          "base_uri": "https://localhost:8080/"
        },
        "id": "jNGLF7q4Rq9T",
        "outputId": "6046f9b6-0de9-411a-edb4-bf53ea12bba3"
      },
      "execution_count": 23,
      "outputs": [
        {
          "output_type": "stream",
          "name": "stdout",
          "text": [
            "Positive\n",
            "Negative\n",
            "Zero\n"
          ]
        }
      ]
    },
    {
      "cell_type": "markdown",
      "source": [
        "12. Write a for loop to print numbers from 1 to 100"
      ],
      "metadata": {
        "id": "ArvN1KxpR6ER"
      }
    },
    {
      "cell_type": "code",
      "source": [
        "print(\"Numbers from 1 to 10:\")\n",
        "for i in range(1, 11):\n",
        "    print(i, end=\" \")\n",
        "print()  # Print a newline after the sequence\n"
      ],
      "metadata": {
        "colab": {
          "base_uri": "https://localhost:8080/"
        },
        "id": "1ZCmbMPGR17i",
        "outputId": "239b0f25-16c0-4e4a-9ffc-22c8ac1bc753"
      },
      "execution_count": 24,
      "outputs": [
        {
          "output_type": "stream",
          "name": "stdout",
          "text": [
            "Numbers from 1 to 10:\n",
            "1 2 3 4 5 6 7 8 9 10 \n"
          ]
        }
      ]
    },
    {
      "cell_type": "markdown",
      "source": [
        "13. Write a Python program to find the sum of all even numbers between 1 and 500\n"
      ],
      "metadata": {
        "id": "n8dZKLgqSf6h"
      }
    },
    {
      "cell_type": "code",
      "source": [
        "sum_even = 0\n",
        "for num in range(2, 51, 2):  # Start at 2, go up to 50, step by 2\n",
        "    sum_even += num\n",
        "print(f\"Sum of even numbers between 1 and 50: {sum_even}\")"
      ],
      "metadata": {
        "colab": {
          "base_uri": "https://localhost:8080/"
        },
        "id": "OY1HrmF8SkNv",
        "outputId": "8939e912-ccf4-4043-f7d3-206f6b2ce0f3"
      },
      "execution_count": 25,
      "outputs": [
        {
          "output_type": "stream",
          "name": "stdout",
          "text": [
            "Sum of even numbers between 1 and 50: 650\n"
          ]
        }
      ]
    },
    {
      "cell_type": "markdown",
      "source": [
        "14. Write a program to reverse a string using a while loop."
      ],
      "metadata": {
        "id": "UOyt46uKSkrX"
      }
    },
    {
      "cell_type": "code",
      "source": [
        "def reverse_string_with_while(s):\n",
        "    reversed_str = \"\"\n",
        "    index = len(s) - 1\n",
        "\n",
        "    while index >= 0:\n",
        "        reversed_str += s[index]\n",
        "        index -= 1\n",
        "\n",
        "    return reversed_str\n",
        "\n",
        "# Test example\n",
        "original_string = \"Python Programming\"\n",
        "reversed_string = reverse_string_with_while(original_string)\n",
        "print(f\"Original string: {original_string}\")\n",
        "print(f\"Reversed string: {reversed_string}\")"
      ],
      "metadata": {
        "colab": {
          "base_uri": "https://localhost:8080/"
        },
        "id": "HEJXbmm1SoZM",
        "outputId": "dcc7b163-82ff-402f-99e7-18c804482a16"
      },
      "execution_count": 26,
      "outputs": [
        {
          "output_type": "stream",
          "name": "stdout",
          "text": [
            "Original string: Python Programming\n",
            "Reversed string: gnimmargorP nohtyP\n"
          ]
        }
      ]
    },
    {
      "cell_type": "markdown",
      "source": [
        "15. Write a Python program to calculate the factorial of a number provided by the user using a while loop."
      ],
      "metadata": {
        "id": "CIH90XmUSo4Q"
      }
    },
    {
      "cell_type": "code",
      "source": [
        "def factorial_with_while(n):\n",
        "    if n < 0:\n",
        "        return \"Factorial is not defined for negative numbers\"\n",
        "    elif n == 0:\n",
        "        return 1\n",
        "    else:\n",
        "        result = 1\n",
        "        i = 1\n",
        "        while i <= n:\n",
        "            result *= i\n",
        "            i += 1\n",
        "        return result\n",
        "\n",
        "# Test examples\n",
        "print(f\"Factorial of 5: {factorial_with_while(5)}\")\n",
        "print(f\"Factorial of 0: {factorial_with_while(0)}\")\n",
        "print(f\"Factorial of -3: {factorial_with_while(-3)}\")"
      ],
      "metadata": {
        "colab": {
          "base_uri": "https://localhost:8080/"
        },
        "id": "Eyh8p-x-StFs",
        "outputId": "cd1693d9-238c-4dd0-effc-8459d92a4816"
      },
      "execution_count": 27,
      "outputs": [
        {
          "output_type": "stream",
          "name": "stdout",
          "text": [
            "Factorial of 5: 120\n",
            "Factorial of 0: 1\n",
            "Factorial of -3: Factorial is not defined for negative numbers\n"
          ]
        }
      ]
    },
    {
      "cell_type": "code",
      "source": [],
      "metadata": {
        "id": "oRMiARgoU156"
      },
      "execution_count": null,
      "outputs": []
    }
  ]
}