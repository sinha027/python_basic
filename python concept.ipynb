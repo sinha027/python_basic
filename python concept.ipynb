{
  "nbformat": 4,
  "nbformat_minor": 0,
  "metadata": {
    "colab": {
      "provenance": []
    },
    "kernelspec": {
      "name": "python3",
      "display_name": "Python 3"
    },
    "language_info": {
      "name": "python"
    }
  },
  "cells": [
    {
      "cell_type": "markdown",
      "source": [
        "1. Difference between interpreted and compiled languages\n",
        "\n",
        "   Compiled Languages: Converted into machine code before execution (e.g., C, C++).\n",
        "\n",
        "   Interpreted Languages: Translated line-by-line at runtime (e.g., Python, JavaScript)."
      ],
      "metadata": {
        "id": "BQD2rjmNQikI"
      }
    },
    {
      "cell_type": "markdown",
      "source": [
        "2. What is exception handling in Python?\n",
        "\n",
        "   Exception handling manages errors using try, except, else, and finally blocks to prevent crashes and handle exceptions gracefully."
      ],
      "metadata": {
        "id": "4dciRD-XQzmn"
      }
    },
    {
      "cell_type": "code",
      "source": [
        "try:\n",
        "    x = 1 / 0\n",
        "except ZeroDivisionError:\n",
        "    print(\"Cannot divide by zero.\")\n"
      ],
      "metadata": {
        "colab": {
          "base_uri": "https://localhost:8080/"
        },
        "id": "Cn5G-tL0Q36f",
        "outputId": "13d576a9-9603-4eec-f829-6a738d4facdd"
      },
      "execution_count": 1,
      "outputs": [
        {
          "output_type": "stream",
          "name": "stdout",
          "text": [
            "Cannot divide by zero.\n"
          ]
        }
      ]
    },
    {
      "cell_type": "markdown",
      "source": [
        "3. Purpose of the finally block\n",
        "\n",
        "   It is used to write cleanup code that executes regardless of whether an exception occurred."
      ],
      "metadata": {
        "id": "ChDDvAAOQ8XY"
      }
    },
    {
      "cell_type": "code",
      "source": [
        "try:\n",
        "    f = open(\"file.txt\", \"w\")\n",
        "    f.write(\"data\")\n",
        "finally:\n",
        "    f.close()\n"
      ],
      "metadata": {
        "id": "8Xf3TCm7QurR"
      },
      "execution_count": 2,
      "outputs": []
    },
    {
      "cell_type": "markdown",
      "source": [
        "4. What is logging in Python?\n",
        "\n",
        "   Logging records messages during program execution to help debug and monitor."
      ],
      "metadata": {
        "id": "hzV9TajaRBix"
      }
    },
    {
      "cell_type": "code",
      "source": [
        "import logging\n",
        "logging.basicConfig(level=logging.INFO)\n",
        "logging.info(\"Application started\")\n"
      ],
      "metadata": {
        "id": "0gpf3D_mRAyk"
      },
      "execution_count": 3,
      "outputs": []
    },
    {
      "cell_type": "markdown",
      "source": [
        "5. Significance of __del__ method\n",
        "\n",
        "   __del__ is a destructor called when an object is about to be destroyed."
      ],
      "metadata": {
        "id": "ZbdcnGKSRI3v"
      }
    },
    {
      "cell_type": "code",
      "source": [
        "class Demo:\n",
        "    def __del__(self):\n",
        "        print(\"Object is being destroyed\")\n",
        "\n",
        "obj = Demo()\n",
        "del obj\n"
      ],
      "metadata": {
        "colab": {
          "base_uri": "https://localhost:8080/"
        },
        "id": "jrtykdumRHzm",
        "outputId": "537ea962-1cda-4d5c-df65-826469a08785"
      },
      "execution_count": 4,
      "outputs": [
        {
          "output_type": "stream",
          "name": "stdout",
          "text": [
            "Object is being destroyed\n"
          ]
        }
      ]
    },
    {
      "cell_type": "markdown",
      "source": [
        "6. Difference between import and from ... import\n",
        "\n",
        "   import math: Access via math.sqrt()\n",
        "\n",
        "  from math import sqrt: Access directly via sqrt()\n",
        "\n"
      ],
      "metadata": {
        "id": "GEXL7CAYRRS3"
      }
    },
    {
      "cell_type": "code",
      "source": [],
      "metadata": {
        "id": "Qkc6053KROp-"
      },
      "execution_count": null,
      "outputs": []
    },
    {
      "cell_type": "markdown",
      "source": [
        "7. Handling multiple exceptions"
      ],
      "metadata": {
        "id": "GXsuk39TRYUP"
      }
    },
    {
      "cell_type": "code",
      "source": [
        "try:\n",
        "    a = int(\"xyz\")\n",
        "except (ValueError, ZeroDivisionError) as e:\n",
        "    print(\"Error:\", e)\n"
      ],
      "metadata": {
        "colab": {
          "base_uri": "https://localhost:8080/"
        },
        "id": "rYi4nm8ORbcS",
        "outputId": "c5cab163-dab6-405a-a856-0cb94ac5a80e"
      },
      "execution_count": 5,
      "outputs": [
        {
          "output_type": "stream",
          "name": "stdout",
          "text": [
            "Error: invalid literal for int() with base 10: 'xyz'\n"
          ]
        }
      ]
    },
    {
      "cell_type": "markdown",
      "source": [
        "8. Purpose of with statement when handling files\n",
        "Automatically handles opening and closing of files."
      ],
      "metadata": {
        "id": "NIDJ1_IHRfj3"
      }
    },
    {
      "cell_type": "markdown",
      "source": [
        "9. Difference between multithreading and multiprocessing\n",
        "\n",
        "   Multithreading: Multiple threads within a process; shared memory; good for I/O-bound tasks.\n",
        "\n",
        "  Multiprocessing: Multiple processes; separate memory; good for CPU-bound tasks.\n",
        "\n"
      ],
      "metadata": {
        "id": "Jd-mTqstRnQw"
      }
    },
    {
      "cell_type": "markdown",
      "source": [
        "10. Advantages of logging\n",
        "   Helps in debugging\n",
        "\n",
        "   Maintains logs for analysis\n",
        "\n",
        "   Tracks errors and events\n",
        "\n"
      ],
      "metadata": {
        "id": "8qJM7GAYRxs3"
      }
    },
    {
      "cell_type": "markdown",
      "source": [
        "11. What is memory management in Python?\n",
        "   \n",
        "   Automatic management using reference counting and garbage collection."
      ],
      "metadata": {
        "id": "H8eVUyXnR2WY"
      }
    },
    {
      "cell_type": "markdown",
      "source": [
        "12. Basic steps in exception handling\n",
        "\n",
        "   try block\n",
        "\n",
        "   except block\n",
        "\n",
        "   else block (optional)\n",
        "\n",
        "   finally block (optional)\n",
        "\n"
      ],
      "metadata": {
        "id": "HCp3x3k5R6Jn"
      }
    },
    {
      "cell_type": "markdown",
      "source": [
        "13. Importance of memory management\n",
        "\n",
        "   Prevents memory leaks\n",
        "\n",
        "   Optimizes resource usage\n",
        "\n",
        "   Ensures better performance\n",
        "\n"
      ],
      "metadata": {
        "id": "upSRMgd2R_RH"
      }
    },
    {
      "cell_type": "markdown",
      "source": [
        "14. Role of try and except in exception handling"
      ],
      "metadata": {
        "id": "NFPl2n3ZSITX"
      }
    },
    {
      "cell_type": "code",
      "source": [
        "try:\n",
        "    x = 10 / 0\n",
        "except ZeroDivisionError:\n",
        "    print(\"Division error handled\")\n"
      ],
      "metadata": {
        "colab": {
          "base_uri": "https://localhost:8080/"
        },
        "id": "pFkuDbKeRibd",
        "outputId": "afb839d6-05a8-4dd8-ae1c-baff8abe7753"
      },
      "execution_count": 8,
      "outputs": [
        {
          "output_type": "stream",
          "name": "stdout",
          "text": [
            "Division error handled\n"
          ]
        }
      ]
    },
    {
      "cell_type": "markdown",
      "source": [
        "15. How Python's garbage collection works\n",
        "\n",
        "   Python uses reference counting and a cyclic garbage collector (gc module) to reclaim unused memory.\n",
        "\n"
      ],
      "metadata": {
        "id": "DgddAalUSN2f"
      }
    },
    {
      "cell_type": "markdown",
      "source": [
        "16. Purpose of the else block in exception handling"
      ],
      "metadata": {
        "id": "3Ku2kQ43SRsX"
      }
    },
    {
      "cell_type": "code",
      "source": [
        "try:\n",
        "    print(\"No error\")\n",
        "except:\n",
        "    print(\"Error occurred\")\n",
        "else:\n",
        "    print(\"Executed if no exception occurs\")\n"
      ],
      "metadata": {
        "colab": {
          "base_uri": "https://localhost:8080/"
        },
        "id": "Ltx8bnkgSLDq",
        "outputId": "62ce850f-c408-4375-c4e3-4f8519b33431"
      },
      "execution_count": 9,
      "outputs": [
        {
          "output_type": "stream",
          "name": "stdout",
          "text": [
            "No error\n",
            "Executed if no exception occurs\n"
          ]
        }
      ]
    },
    {
      "cell_type": "markdown",
      "source": [
        "17. Common logging levels\n",
        "\n",
        "   DEBUG\n",
        "\n",
        "   INFO\n",
        "\n",
        "   WARNING\n",
        "\n",
        "  ERROR\n",
        "\n",
        "  CRITICAL\n",
        "\n"
      ],
      "metadata": {
        "id": "sQ7IWT8rSaOP"
      }
    },
    {
      "cell_type": "markdown",
      "source": [
        "18. Difference between os.fork() and multiprocessing\n",
        "\n",
        "   os.fork() creates a child process (Unix only)\n",
        "\n",
        "   multiprocessing is a cross-platform way to run tasks in parallel\n",
        "\n"
      ],
      "metadata": {
        "id": "v3DIcuEZShfY"
      }
    },
    {
      "cell_type": "markdown",
      "source": [
        "19. Importance of closing a file\n",
        "\n",
        "   Releases system resources\n",
        "\n",
        "   Ensures data is written properly\n",
        "\n",
        "   Prevents file corruption\n",
        "\n"
      ],
      "metadata": {
        "id": "riJyJKCFSm_P"
      }
    },
    {
      "cell_type": "markdown",
      "source": [
        "20. Difference between read() and readline()"
      ],
      "metadata": {
        "id": "pe-5A5qdSsCp"
      }
    },
    {
      "cell_type": "code",
      "source": [
        "with open(\"file.txt\") as f:\n",
        "    print(f.read())       # Reads entire content\n",
        "\n",
        "with open(\"file.txt\") as f:\n",
        "    print(f.readline())   # Reads one line\n"
      ],
      "metadata": {
        "colab": {
          "base_uri": "https://localhost:8080/"
        },
        "id": "A2M8r7xdSWvL",
        "outputId": "88bc0bc9-bd0e-48f9-b6f2-9de4161fc701"
      },
      "execution_count": 10,
      "outputs": [
        {
          "output_type": "stream",
          "name": "stdout",
          "text": [
            "data\n",
            "data\n"
          ]
        }
      ]
    },
    {
      "cell_type": "markdown",
      "source": [
        "21. Logging module usage\n",
        "\n"
      ],
      "metadata": {
        "id": "6a0puwveSZ36"
      }
    },
    {
      "cell_type": "code",
      "source": [
        "import logging\n",
        "logging.warning(\"This is a warning.\")\n"
      ],
      "metadata": {
        "colab": {
          "base_uri": "https://localhost:8080/"
        },
        "id": "61amkECtSyyJ",
        "outputId": "100e0483-8788-48f7-9a0d-33cfaf7f6be8"
      },
      "execution_count": 11,
      "outputs": [
        {
          "output_type": "stream",
          "name": "stderr",
          "text": [
            "WARNING:root:This is a warning.\n"
          ]
        }
      ]
    },
    {
      "cell_type": "markdown",
      "source": [
        "22. Use of os module for file handling"
      ],
      "metadata": {
        "id": "JM5JvgrTS3Sr"
      }
    },
    {
      "cell_type": "code",
      "source": [
        "import os\n",
        "print(os.path.exists(\"file.txt\"))\n",
        "print(os.getcwd())\n"
      ],
      "metadata": {
        "colab": {
          "base_uri": "https://localhost:8080/"
        },
        "id": "wxVlwAHDS0tB",
        "outputId": "f946c48b-a8eb-42a4-c898-eff45b8ff50d"
      },
      "execution_count": 12,
      "outputs": [
        {
          "output_type": "stream",
          "name": "stdout",
          "text": [
            "True\n",
            "/content\n"
          ]
        }
      ]
    },
    {
      "cell_type": "code",
      "source": [],
      "metadata": {
        "id": "Y0Df5gc6S5sK"
      },
      "execution_count": null,
      "outputs": []
    },
    {
      "cell_type": "markdown",
      "source": [
        "23. Challenges in memory management\n",
        "\n",
        "   Cyclic references\n",
        "\n",
        "   Memory leaks\n",
        "\n",
        "   High memory usage due to unused objects"
      ],
      "metadata": {
        "id": "Vl2aD-E0S8Dv"
      }
    },
    {
      "cell_type": "markdown",
      "source": [
        "24. Raise exception manually"
      ],
      "metadata": {
        "id": "jkcTeHdoTC1o"
      }
    },
    {
      "cell_type": "markdown",
      "source": [
        "25. Importance of multithreading in certain applications\n",
        "\n",
        "   Increases responsiveness (e.g., GUIs)\n",
        "\n",
        "   Handles I/O operations without blocking\n",
        "\n",
        "   class MyCustomError(Exception):\n",
        "    pass\n",
        "\n",
        "raise MyCustomError(\"Custom error occurred!\")\n",
        "Useful in network and file I/O tasks"
      ],
      "metadata": {
        "id": "2VS5TAXFTHx4"
      }
    },
    {
      "cell_type": "markdown",
      "source": [
        "## Practical Questions"
      ],
      "metadata": {
        "id": "pjzo_kMBUAng"
      }
    },
    {
      "cell_type": "code",
      "source": [
        "import os\n",
        "import logging\n",
        "from logging.handlers import RotatingFileHandler\n",
        "\n",
        "print(\"\\nQ1:\")\n",
        "with open(\"example.txt\", \"w\") as f:\n",
        "    f.write(\"Hello, this is a test string.\")\n",
        "\n",
        "print(\"\\nQ2:\")\n",
        "with open(\"example.txt\", \"r\") as f:\n",
        "    for line in f:\n",
        "        print(line.strip())\n",
        "\n",
        "print(\"\\nQ3:\")\n",
        "try:\n",
        "    with open(\"nonexistent.txt\", \"r\") as f:\n",
        "        content = f.read()\n",
        "except FileNotFoundError:\n",
        "    print(\"File not found.\")\n",
        "\n",
        "print(\"\\nQ4:\")\n",
        "with open(\"source.txt\", \"w\") as f:\n",
        "    f.write(\"This is source content.\")\n",
        "with open(\"source.txt\", \"r\") as src, open(\"destination.txt\", \"w\") as dst:\n",
        "    dst.write(src.read())\n",
        "\n",
        "print(\"\\nQ5:\")\n",
        "try:\n",
        "    result = 10 / 0\n",
        "except ZeroDivisionError:\n",
        "    print(\"Division by zero error!\")\n",
        "\n",
        "print(\"\\nQ6:\")\n",
        "logging.basicConfig(filename=\"error.log\", level=logging.ERROR)\n",
        "try:\n",
        "    x = 10 / 0\n",
        "except ZeroDivisionError as e:\n",
        "    logging.error(\"Division by zero occurred: %s\", e)\n",
        "    print(\"Logged ZeroDivisionError to error.log\")\n",
        "\n",
        "print(\"\\nQ7:\")\n",
        "logging.basicConfig(level=logging.DEBUG)\n",
        "logging.info(\"This is an info message.\")\n",
        "logging.warning(\"This is a warning message.\")\n",
        "logging.error(\"This is an error message.\")\n",
        "print(\"Logged INFO, WARNING, and ERROR.\")\n",
        "\n",
        "print(\"\\nQ8:\")\n",
        "try:\n",
        "    with open(\"file_does_not_exist.txt\", \"r\") as f:\n",
        "        print(f.read())\n",
        "except IOError:\n",
        "    print(\"Failed to open the file.\")\n",
        "\n",
        "print(\"\\nQ9:\")\n",
        "lines = []\n",
        "with open(\"example.txt\", \"r\") as f:\n",
        "    lines = f.readlines()\n",
        "print(lines)\n",
        "\n",
        "print(\"\\nQ10:\")\n",
        "with open(\"example.txt\", \"a\") as f:\n",
        "    f.write(\"\\nThis is an appended line.\")\n",
        "print(\"Appended data to file.\")\n",
        "\n",
        "print(\"\\nQ11:\")\n",
        "data = {\"name\": \"Alice\"}\n",
        "try:\n",
        "    print(data[\"age\"])\n",
        "except KeyError:\n",
        "    print(\"Key does not exist in dictionary.\")\n",
        "\n",
        "print(\"\\nQ12:\")\n",
        "try:\n",
        "    int(\"abc\")\n",
        "    [1, 2][5]\n",
        "except ValueError:\n",
        "    print(\"Caught a ValueError.\")\n",
        "except IndexError:\n",
        "    print(\"Caught an IndexError.\")\n",
        "\n",
        "print(\"\\nQ13:\")\n",
        "if os.path.exists(\"example.txt\"):\n",
        "    print(\"File exists.\")\n",
        "else:\n",
        "    print(\"File does not exist.\")\n",
        "\n",
        "print(\"\\nQ14:\")\n",
        "logging.basicConfig(filename=\"log.log\", level=logging.INFO)\n",
        "logging.info(\"Logging an info message.\")\n",
        "logging.error(\"Logging an error message.\")\n",
        "print(\"Logged info and error messages.\")\n",
        "\n",
        "print(\"\\nQ15:\")\n",
        "with open(\"example.txt\", \"r\") as f:\n",
        "    content = f.read()\n",
        "    if content:\n",
        "        print(content)\n",
        "    else:\n",
        "        print(\"File is empty.\")\n",
        "\n",
        "print(\"\\nQ16:\")\n",
        "def memory_usage():\n",
        "    a = [i for i in range(10000)]\n",
        "    return a\n",
        "memory_usage()\n",
        "print(\"Memory profiling demonstration complete.\")\n",
        "\n",
        "print(\"\\nQ17:\")\n",
        "numbers = [1, 2, 3, 4, 5]\n",
        "with open(\"numbers.txt\", \"w\") as f:\n",
        "    for n in numbers:\n",
        "        f.write(str(n) + \"\\n\")\n",
        "print(\"Wrote numbers to file.\")\n",
        "\n",
        "print(\"\\nQ18:\")\n",
        "rot_logger = logging.getLogger(\"rotateLogger\")\n",
        "rot_logger.setLevel(logging.INFO)\n",
        "handler = RotatingFileHandler(\"rotate.log\", maxBytes=100, backupCount=2)\n",
        "rot_logger.addHandler(handler)\n",
        "rot_logger.info(\"This is a rotating log entry.\")\n",
        "print(\"Logged with rotation.\")\n",
        "\n",
        "print(\"\\nQ19:\")\n",
        "try:\n",
        "    print([1, 2, 3][10])\n",
        "    print({\"x\": 1}[\"y\"])\n",
        "except IndexError:\n",
        "    print(\"IndexError handled.\")\n",
        "except KeyError:\n",
        "    print(\"KeyError handled.\")\n",
        "\n",
        "print(\"\\nQ20:\")\n",
        "with open(\"example.txt\", \"r\") as f:\n",
        "    print(f.read())\n",
        "\n",
        "print(\"\\nQ21:\")\n",
        "word = \"test\"\n",
        "count = 0\n",
        "with open(\"example.txt\", \"r\") as f:\n",
        "    for line in f:\n",
        "        count += line.lower().count(word)\n",
        "print(f\"'{word}' occurred {count} times.\")\n",
        "\n",
        "print(\"\\nQ22:\")\n",
        "if os.path.getsize(\"example.txt\") == 0:\n",
        "    print(\"File is empty.\")\n",
        "else:\n",
        "    print(\"File is not empty.\")\n",
        "\n",
        "print(\"\\nQ23:\")\n",
        "logging.basicConfig(filename=\"file_error.log\", level=logging.ERROR)\n",
        "try:\n",
        "    with open(\"no_file.txt\", \"r\") as f:\n",
        "        print(f.read())\n",
        "except Exception as e:\n",
        "    logging.error(\"Error while handling file: %s\", e)\n",
        "    print(\"Error logged to file_error.log\")\n"
      ],
      "metadata": {
        "colab": {
          "base_uri": "https://localhost:8080/"
        },
        "id": "sc9JFsN0T-uQ",
        "outputId": "ef76548d-9fac-46a9-ac66-a299e295c7a3"
      },
      "execution_count": 22,
      "outputs": [
        {
          "output_type": "stream",
          "name": "stderr",
          "text": [
            "ERROR:root:Division by zero occurred: division by zero\n",
            "WARNING:root:This is a warning message.\n",
            "ERROR:root:This is an error message.\n",
            "ERROR:root:Logging an error message.\n",
            "INFO:rotateLogger:This is a rotating log entry.\n",
            "ERROR:root:Error while handling file: [Errno 2] No such file or directory: 'no_file.txt'\n"
          ]
        },
        {
          "output_type": "stream",
          "name": "stdout",
          "text": [
            "\n",
            "Q1:\n",
            "\n",
            "Q2:\n",
            "Hello, this is a test string.\n",
            "\n",
            "Q3:\n",
            "File not found.\n",
            "\n",
            "Q4:\n",
            "\n",
            "Q5:\n",
            "Division by zero error!\n",
            "\n",
            "Q6:\n",
            "Logged ZeroDivisionError to error.log\n",
            "\n",
            "Q7:\n",
            "Logged INFO, WARNING, and ERROR.\n",
            "\n",
            "Q8:\n",
            "Failed to open the file.\n",
            "\n",
            "Q9:\n",
            "['Hello, this is a test string.']\n",
            "\n",
            "Q10:\n",
            "Appended data to file.\n",
            "\n",
            "Q11:\n",
            "Key does not exist in dictionary.\n",
            "\n",
            "Q12:\n",
            "Caught a ValueError.\n",
            "\n",
            "Q13:\n",
            "File exists.\n",
            "\n",
            "Q14:\n",
            "Logged info and error messages.\n",
            "\n",
            "Q15:\n",
            "Hello, this is a test string.\n",
            "This is an appended line.\n",
            "\n",
            "Q16:\n",
            "Memory profiling demonstration complete.\n",
            "\n",
            "Q17:\n",
            "Wrote numbers to file.\n",
            "\n",
            "Q18:\n",
            "Logged with rotation.\n",
            "\n",
            "Q19:\n",
            "IndexError handled.\n",
            "\n",
            "Q20:\n",
            "Hello, this is a test string.\n",
            "This is an appended line.\n",
            "\n",
            "Q21:\n",
            "'test' occurred 1 times.\n",
            "\n",
            "Q22:\n",
            "File is not empty.\n",
            "\n",
            "Q23:\n",
            "Error logged to file_error.log\n"
          ]
        }
      ]
    },
    {
      "cell_type": "code",
      "source": [],
      "metadata": {
        "id": "o9xhHDGAUnpL"
      },
      "execution_count": null,
      "outputs": []
    }
  ]
}