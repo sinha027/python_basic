{
  "nbformat": 4,
  "nbformat_minor": 0,
  "metadata": {
    "colab": {
      "provenance": []
    },
    "kernelspec": {
      "name": "python3",
      "display_name": "Python 3"
    },
    "language_info": {
      "name": "python"
    }
  },
  "cells": [
    {
      "cell_type": "markdown",
      "source": [
        "# Theoritical question"
      ],
      "metadata": {
        "id": "VoEqgrSoSRoi"
      }
    },
    {
      "cell_type": "markdown",
      "source": [
        "1. What is Object-Oriented Programming (OOP)?\n",
        "\n",
        "\n",
        "  OOP is a programming paradigm based on the concept of \"objects\", which contain data (attributes) and code (methods). It promotes modularity, code reuse, and encapsulation.\n",
        "\n",
        "2. What is a class in OOP?\n",
        "\n",
        "\n",
        "  A class is a blueprint for creating objects. It defines attributes and methods that the created objects (instances) will have.\n",
        "\n",
        "3. What is an object in OOP?\n",
        "\n",
        "\n",
        "  An object is an instance of a class. It represents a specific entity with the attributes and behaviors defined by the class.\n",
        "\n",
        "4. What is the difference between abstraction and encapsulation?\n",
        "\n",
        "\n",
        "  Abstraction hides complexity by showing only essential features.\n",
        "\n",
        "  Encapsulation hides internal object details, bundling data and methods into a single unit.\n",
        "\n",
        "5. What are dunder methods in Python?\n",
        "\n",
        "\n",
        "  \"Dunder\" (double underscore) methods are special methods like __init__, __str__, and __len__, used to define behavior for built-in operations.\n",
        "\n",
        "6. Explain the concept of inheritance in OOP.\n",
        "\n",
        "\n",
        "  Inheritance allows a class (child) to inherit properties and methods from another class (parent), promoting reusability.\n",
        "\n",
        "7. What is polymorphism in OOP?\n",
        "  \n",
        "\n",
        "  Polymorphism means the same interface or method name can have different implementations depending on the object.\n",
        "\n",
        "8. How is encapsulation achieved in Python?\n",
        "\n",
        "\n",
        "  Encapsulation is achieved using private (__var) and protected (_var) variables and defining getter/setter methods to control access.\n",
        "\n",
        "9. What is a constructor in Python?\n",
        "\n",
        "\n",
        "  A constructor is a special method (__init__) that is automatically called when a new object is created.\n",
        "\n",
        "10. What are class and static methods in Python?\n",
        "\n",
        "\n",
        "  Class methods use @classmethod and take cls as the first argument.\n",
        "\n",
        "  Static methods use @staticmethod and do not take self or cls.\n",
        "\n",
        "11. What is method overloading in Python?\n",
        "\n",
        "\n",
        "  Python does not support traditional method overloading. You can achieve similar behavior using default arguments or *args.\n",
        "\n",
        "12. What is method overriding in OOP?\n",
        "\n",
        "\n",
        "  It means redefining a method in a subclass that already exists in the parent class, to change or extend its behavior.\n",
        "\n",
        "13. What is a property decorator in Python?\n",
        "\n",
        "\n",
        "  @property turns a method into a read-only property, allowing access like an attribute.\n",
        "\n",
        "\n",
        "14. Why is polymorphism important in OOP?\n",
        "\n",
        "\n",
        "  It enables flexibility and scalability, allowing objects of different classes to be treated uniformly based on shared behavior.\n",
        "\n",
        "15. What is an abstract class in Python?\n",
        "\n",
        "\n",
        "  An abstract class contains abstract methods and cannot be instantiated. It is defined using the abc module.\n",
        "\n",
        "\n",
        "16. What are the advantages of OOP?\n",
        "\n",
        "\n",
        "  Code reuse via inheritance\n",
        "\n",
        "  Encapsulation for data protection\n",
        "\n",
        "  Polymorphism for flexibility\n",
        "\n",
        "  Abstraction for simplicity\n",
        "\n",
        "17. What is the difference between a class variable and an instance variable?\n",
        "\n",
        "\n",
        "  Class variable: Shared across all instances.\n",
        "\n",
        "  Instance variable: Unique to each object.\n",
        "\n",
        "18. What is multiple inheritance in Python?\n",
        "\n",
        "\n",
        "  When a class inherits from more than one parent class, it is called multiple inheritance.\n",
        "\n",
        "19. Explain the purpose of __str__ and __repr__ methods in Python.\n",
        "\n",
        "\n",
        "  __str__: Defines human-readable string representation.\n",
        "\n",
        "  __repr__: Defines unambiguous representation (for developers).\n",
        "\n",
        "20. What is the significance of the super() function in Python?\n",
        "\n",
        "\n",
        "  super() allows you to call methods from the parent class, often used in method overriding and constructors.\n",
        "\n",
        "\n",
        "21. What is the significance of the __del__ method in Python?\n",
        "\n",
        "\n",
        "  __del__ is a destructor method called when an object is about to be destroyed (rarely needed).\n",
        "\n",
        "22. What is the difference between @staticmethod and @classmethod in Python?\n",
        "\n",
        "\n",
        "  @staticmethod: No access to class or instance (self or cls).\n",
        "\n",
        "  @classmethod: Has access to the class (cls), but not instance.\n",
        "\n",
        "23. How does polymorphism work in Python with inheritance?\n",
        "\n",
        "\n",
        "  A child class can override methods of a parent class, and the overridden method is called depending on the object type.\n",
        "\n",
        "24. What is method chaining in Python OOP?\n",
        "  \n",
        "\n",
        "  It is calling multiple methods on the same object in a single line using return self.\n",
        "\n",
        "25. What is the purpose of the __call__ method in Python?\n",
        "\n",
        "\n",
        "  It allows an object to be called like a function using object(). This can be used for callable objects.\n",
        "\n"
      ],
      "metadata": {
        "id": "KY1WbVkBSaLY"
      }
    },
    {
      "cell_type": "markdown",
      "source": [
        "# Practical Question"
      ],
      "metadata": {
        "id": "CjlvJLiQTt2R"
      }
    },
    {
      "cell_type": "code",
      "source": [
        "#1. Parent and Child Class with Method Overriding\n",
        "\n",
        "class Animal:\n",
        "    def speak(self):\n",
        "        print(\"Animal speaks\")\n",
        "\n",
        "class Dog(Animal):\n",
        "    def speak(self):\n",
        "        print(\"Bark!\")\n",
        "\n",
        "dog = Dog()\n",
        "dog.speak()\n"
      ],
      "metadata": {
        "colab": {
          "base_uri": "https://localhost:8080/"
        },
        "id": "WlSpqJeJUGRy",
        "outputId": "2d4ab9c9-d53d-489c-fccf-290cd9cbe675"
      },
      "execution_count": 3,
      "outputs": [
        {
          "output_type": "stream",
          "name": "stdout",
          "text": [
            "Bark!\n"
          ]
        }
      ]
    },
    {
      "cell_type": "code",
      "source": [
        "# 2. Abstract Class Shape\n",
        "\n",
        "from abc import ABC, abstractmethod\n",
        "\n",
        "class Shape(ABC):\n",
        "    @abstractmethod\n",
        "    def area(self):\n",
        "        pass\n",
        "\n",
        "class Circle(Shape):\n",
        "    def __init__(self, radius):\n",
        "        self.radius = radius\n",
        "\n",
        "    def area(self):\n",
        "        return 3.14 * self.radius * self.radius\n",
        "\n",
        "class Rectangle(Shape):\n",
        "    def __init__(self, length, breadth):\n",
        "        self.length = length\n",
        "        self.breadth = breadth\n",
        "\n",
        "    def area(self):\n",
        "        return self.length * self.breadth\n"
      ],
      "metadata": {
        "id": "Gy1xKkQzfSio"
      },
      "execution_count": 4,
      "outputs": []
    },
    {
      "cell_type": "code",
      "source": [
        "# 3. Multi-level Inheritance\n",
        "\n",
        "class Vehicle:\n",
        "    def __init__(self, vtype):\n",
        "        self.vtype = vtype\n",
        "\n",
        "class Car(Vehicle):\n",
        "    def __init__(self, vtype, model):\n",
        "        super().__init__(vtype)\n",
        "        self.model = model\n",
        "\n",
        "class ElectricCar(Car):\n",
        "    def __init__(self, vtype, model, battery):\n",
        "        super().__init__(vtype, model)\n",
        "        self.battery = battery\n"
      ],
      "metadata": {
        "id": "sspBxHfvfk8G"
      },
      "execution_count": 5,
      "outputs": []
    },
    {
      "cell_type": "code",
      "source": [
        "# 4. Polymorphism with Bird\n",
        "\n",
        "class Bird:\n",
        "    def fly(self):\n",
        "        print(\"Bird can fly\")\n",
        "\n",
        "class Sparrow(Bird):\n",
        "    def fly(self):\n",
        "        print(\"Sparrow flies high\")\n",
        "\n",
        "class Penguin(Bird):\n",
        "    def fly(self):\n",
        "        print(\"Penguin can't fly\")\n",
        "\n",
        "birds = [Sparrow(), Penguin()]\n",
        "for bird in birds:\n",
        "    bird.fly()\n"
      ],
      "metadata": {
        "colab": {
          "base_uri": "https://localhost:8080/"
        },
        "id": "Ft3Rcp28fr8j",
        "outputId": "6930524f-37f0-4890-97eb-f886ce9dbde0"
      },
      "execution_count": 6,
      "outputs": [
        {
          "output_type": "stream",
          "name": "stdout",
          "text": [
            "Sparrow flies high\n",
            "Penguin can't fly\n"
          ]
        }
      ]
    },
    {
      "cell_type": "code",
      "source": [
        "# 5. Encapsulation with BankAccount\n",
        "\n",
        "class BankAccount:\n",
        "    def __init__(self, balance):\n",
        "        self.__balance = balance\n",
        "\n",
        "    def deposit(self, amount):\n",
        "        self.__balance += amount\n",
        "\n",
        "    def withdraw(self, amount):\n",
        "        if amount <= self.__balance:\n",
        "            self.__balance -= amount\n",
        "\n",
        "    def check_balance(self):\n",
        "        return self.__balance\n"
      ],
      "metadata": {
        "id": "8XYJmv7Qf14a"
      },
      "execution_count": 7,
      "outputs": []
    },
    {
      "cell_type": "code",
      "source": [
        "# 6. Runtime Polymorphism with Instrument\n",
        "\n",
        "class Instrument:\n",
        "    def play(self):\n",
        "        print(\"Playing instrument\")\n",
        "\n",
        "class Guitar(Instrument):\n",
        "    def play(self):\n",
        "        print(\"Strumming guitar\")\n",
        "\n",
        "class Piano(Instrument):\n",
        "    def play(self):\n",
        "        print(\"Playing piano\")\n",
        "\n",
        "instruments = [Guitar(), Piano()]\n",
        "for instr in instruments:\n",
        "    instr.play()\n"
      ],
      "metadata": {
        "colab": {
          "base_uri": "https://localhost:8080/"
        },
        "id": "3uHveoBhf82m",
        "outputId": "6fb8725c-2a95-49b8-8546-3d3b1aff2a3f"
      },
      "execution_count": 8,
      "outputs": [
        {
          "output_type": "stream",
          "name": "stdout",
          "text": [
            "Strumming guitar\n",
            "Playing piano\n"
          ]
        }
      ]
    },
    {
      "cell_type": "code",
      "source": [
        "#7. Class and Static Method in MathOperations\n",
        "\n",
        "class MathOperations:\n",
        "    @classmethod\n",
        "    def add_numbers(cls, a, b):\n",
        "        return a + b\n",
        "\n",
        "    @staticmethod\n",
        "    def subtract_numbers(a, b):\n",
        "        return a - b\n"
      ],
      "metadata": {
        "id": "uJh2YkztgFjm"
      },
      "execution_count": 10,
      "outputs": []
    },
    {
      "cell_type": "code",
      "source": [
        "#8. Count Total Persons Using Class Method\n",
        "\n",
        "class Person:\n",
        "    count = 0\n",
        "\n",
        "    def __init__(self):\n",
        "        Person.count += 1\n",
        "\n",
        "    @classmethod\n",
        "    def total_persons(cls):\n",
        "        return cls.count\n"
      ],
      "metadata": {
        "id": "4zAmA2kfgMEp"
      },
      "execution_count": 11,
      "outputs": []
    },
    {
      "cell_type": "code",
      "source": [
        "# 9. Fraction Class with __str__ Overriding\n",
        "\n",
        "class Fraction:\n",
        "    def __init__(self, numerator, denominator):\n",
        "        self.numerator = numerator\n",
        "        self.denominator = denominator\n",
        "\n",
        "    def __str__(self):\n",
        "        return f\"{self.numerator}/{self.denominator}\"\n"
      ],
      "metadata": {
        "id": "UyG6zRICgU6G"
      },
      "execution_count": 12,
      "outputs": []
    },
    {
      "cell_type": "code",
      "source": [
        "# 10. Operator Overloading in Vector\n",
        "class Vector:\n",
        "    def __init__(self, x, y):\n",
        "        self.x = x\n",
        "        self.y = y\n",
        "\n",
        "    def __add__(self, other):\n",
        "        return Vector(self.x + other.x, self.y + other.y)\n",
        "\n",
        "    def __str__(self):\n",
        "        return f\"Vector({self.x}, {self.y})\"\n"
      ],
      "metadata": {
        "id": "56IuzdZvgbXc"
      },
      "execution_count": 13,
      "outputs": []
    },
    {
      "cell_type": "code",
      "source": [
        "# 11. Greet Method in Person\n",
        "\n",
        "class Person:\n",
        "    def __init__(self, name, age):\n",
        "        self.name = name\n",
        "        self.age = age\n",
        "\n",
        "    def greet(self):\n",
        "        print(f\"Hello, my name is {self.name} and I am {self.age} years old.\")\n"
      ],
      "metadata": {
        "id": "phs8NZFfggiK"
      },
      "execution_count": 14,
      "outputs": []
    },
    {
      "cell_type": "code",
      "source": [
        "# 12. Student Class with Grade Average\n",
        "\n",
        "class Student:\n",
        "    def __init__(self, name, grades):\n",
        "        self.name = name\n",
        "        self.grades = grades\n",
        "\n",
        "    def average_grade(self):\n",
        "        return sum(self.grades) / len(self.grades)\n"
      ],
      "metadata": {
        "id": "psOOuB7LgmI-"
      },
      "execution_count": 15,
      "outputs": []
    },
    {
      "cell_type": "code",
      "source": [
        "# 13. Rectangle with set_dimensions() and area()\n",
        "\n",
        "class Rectangle:\n",
        "    def set_dimensions(self, length, width):\n",
        "        self.length = length\n",
        "        self.width = width\n",
        "\n",
        "    def area(self):\n",
        "        return self.length * self.width\n"
      ],
      "metadata": {
        "id": "_Jm62xXAgypr"
      },
      "execution_count": 16,
      "outputs": []
    },
    {
      "cell_type": "code",
      "source": [
        "# 14. Employee and Manager with calculate_salary()\n",
        "\n",
        "class Employee:\n",
        "    def __init__(self, hours, rate):\n",
        "        self.hours = hours\n",
        "        self.rate = rate\n",
        "\n",
        "    def calculate_salary(self):\n",
        "        return self.hours * self.rate\n",
        "\n",
        "class Manager(Employee):\n",
        "    def __init__(self, hours, rate, bonus):\n",
        "        super().__init__(hours, rate)\n",
        "        self.bonus = bonus\n",
        "\n",
        "    def calculate_salary(self):\n",
        "        return super().calculate_salary() + self.bonus"
      ],
      "metadata": {
        "id": "P2v9oPY_g2yc"
      },
      "execution_count": 17,
      "outputs": []
    },
    {
      "cell_type": "code",
      "source": [
        "# 15. Product Class with total_price()\n",
        "\n",
        "class Product:\n",
        "    def __init__(self, name, price, quantity):\n",
        "        self.name = name\n",
        "        self.price = price\n",
        "        self.quantity = quantity\n",
        "\n",
        "    def total_price(self):\n",
        "        return self.price * self.quantity\n"
      ],
      "metadata": {
        "id": "ZN5RYKb7g45n"
      },
      "execution_count": 18,
      "outputs": []
    },
    {
      "cell_type": "code",
      "source": [
        "# 16. Abstract Class Animal with Derived Classes Cow and Sheep\n",
        "\n",
        "from abc import ABC, abstractmethod\n",
        "\n",
        "class Animal(ABC):\n",
        "    @abstractmethod\n",
        "    def sound(self):\n",
        "        pass\n",
        "\n",
        "class Cow(Animal):\n",
        "    def sound(self):\n",
        "        return \"Moo\"\n",
        "\n",
        "class Sheep(Animal):\n",
        "    def sound(self):\n",
        "        return \"Baa\"\n"
      ],
      "metadata": {
        "id": "ANUN_4IrhOfc"
      },
      "execution_count": 19,
      "outputs": []
    },
    {
      "cell_type": "code",
      "source": [
        "# 17. Book Class with get_book_info()\n",
        "\n",
        "class Book:\n",
        "    def __init__(self, title, author, year_published):\n",
        "        self.title = title\n",
        "        self.author = author\n",
        "        self.year_published = year_published\n",
        "\n",
        "    def get_book_info(self):\n",
        "        return f\"'{self.title}' by {self.author} (Published in {self.year_published})\"\n"
      ],
      "metadata": {
        "id": "TMbVDTfohUj5"
      },
      "execution_count": 20,
      "outputs": []
    },
    {
      "cell_type": "code",
      "source": [
        "# 18. House and Derived Class Mansion\n",
        "\n",
        "class House:\n",
        "    def __init__(self, address, price):\n",
        "        self.address = address\n",
        "        self.price = price\n",
        "\n",
        "class Mansion(House):\n",
        "    def __init__(self, address, price, number_of_rooms):\n",
        "        super().__init__(address, price)\n",
        "        self.number_of_rooms = number_of_rooms"
      ],
      "metadata": {
        "id": "QZOtrLtVhZDP"
      },
      "execution_count": 21,
      "outputs": []
    },
    {
      "cell_type": "code",
      "source": [],
      "metadata": {
        "id": "TFqTKoYChb0u"
      },
      "execution_count": null,
      "outputs": []
    }
  ]
}