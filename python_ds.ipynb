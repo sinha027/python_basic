{
  "nbformat": 4,
  "nbformat_minor": 0,
  "metadata": {
    "colab": {
      "provenance": []
    },
    "kernelspec": {
      "name": "python3",
      "display_name": "Python 3"
    },
    "language_info": {
      "name": "python"
    }
  },
  "cells": [
    {
      "cell_type": "code",
      "execution_count": null,
      "metadata": {
        "id": "M99vHyefCcBF"
      },
      "outputs": [],
      "source": []
    },
    {
      "cell_type": "markdown",
      "source": [
        "# Theoritical Question."
      ],
      "metadata": {
        "id": "y0VP9_5ZCqzK"
      }
    },
    {
      "cell_type": "markdown",
      "source": [
        "1. What are data structures, and why are they important?\n",
        "\n",
        "  - Data structures are formats used to organize, store, and manage data efficiently. They are important because they allow data to be accessed and modified efficiently, which is crucial for writing optimized code.\n",
        "\n"
      ],
      "metadata": {
        "id": "woZVaKKrCj1T"
      }
    },
    {
      "cell_type": "code",
      "source": [],
      "metadata": {
        "id": "QNJxaEA_C-Ls"
      },
      "execution_count": null,
      "outputs": []
    },
    {
      "cell_type": "markdown",
      "source": [
        "2. Explain the difference between mutable and immutable data types with examples.\n",
        "\n",
        "  -  Mutable: Can be changed after creation. Example: list, dict, set\n",
        "\n",
        "  - Immutable: Cannot be changed after creation. Example: int, str, tuple"
      ],
      "metadata": {
        "id": "lo917NdcDNhy"
      }
    },
    {
      "cell_type": "code",
      "source": [],
      "metadata": {
        "id": "xu8w1vj2DOiQ"
      },
      "execution_count": null,
      "outputs": []
    },
    {
      "cell_type": "markdown",
      "source": [
        "3. What are the main differences between lists and tuples in Python?\n",
        "\n",
        "    - Feature   \t     List\t               Tuple\n",
        "\n",
        "    - Mutability\t     Mutable\t             Immutable\n",
        "\n",
        "    - Syntax\t           []\t                    ()\n",
        "\n",
        "    - Performance\t    Slower\t             Faster\n",
        "\n",
        "    - Use case\t      Changing data\t       Fixed data"
      ],
      "metadata": {
        "id": "nULI6KbsDSW6"
      }
    },
    {
      "cell_type": "code",
      "source": [],
      "metadata": {
        "id": "UsVRI_BMDXV4"
      },
      "execution_count": null,
      "outputs": []
    },
    {
      "cell_type": "markdown",
      "source": [
        "4. Describe how dictionaries store data.\n",
        "\n",
        "  - Dictionaries store data as key-value pairs using a hash table internally. Each key is hashed to a unique index where the corresponding value is stored."
      ],
      "metadata": {
        "id": "Sa5KpZc3EQLb"
      }
    },
    {
      "cell_type": "code",
      "source": [],
      "metadata": {
        "id": "5ltW2zE3ETs5"
      },
      "execution_count": null,
      "outputs": []
    },
    {
      "cell_type": "markdown",
      "source": [
        "5. Why might you use a set instead of a list in Python?\n",
        "  - Sets automatically eliminate duplicate values and offer faster membership testing (O(1) average case).\n",
        "\n"
      ],
      "metadata": {
        "id": "SD-v2eOhEUfC"
      }
    },
    {
      "cell_type": "code",
      "source": [],
      "metadata": {
        "id": "raMSL7W0EYlI"
      },
      "execution_count": null,
      "outputs": []
    },
    {
      "cell_type": "markdown",
      "source": [
        "6. What is a string in Python, and how is it different from a list?\n",
        "  - A string is a sequence of characters and is immutable, while a list is a sequence of elements and is mutable."
      ],
      "metadata": {
        "id": "PDi-CsPxEZSy"
      }
    },
    {
      "cell_type": "markdown",
      "source": [
        "7. How do tuples ensure data integrity in Python?\n",
        "  - Tuples are immutable, so once created, their contents can't be altered. This guarantees that the data remains constant, preserving integrity.\n",
        "\n"
      ],
      "metadata": {
        "id": "cX1vJcPCEcfz"
      }
    },
    {
      "cell_type": "code",
      "source": [],
      "metadata": {
        "id": "_eYlpNjiEcBJ"
      },
      "execution_count": null,
      "outputs": []
    },
    {
      "cell_type": "markdown",
      "source": [
        "8. What is a hash table, and how does it relate to dictionaries in Python?\n",
        "  - A hash table maps keys to values using a hash function. Python’s dict uses a hash table for fast data retrieval by key."
      ],
      "metadata": {
        "id": "k5TPRj9LEgqK"
      }
    },
    {
      "cell_type": "code",
      "source": [],
      "metadata": {
        "id": "3oLVTeYNEjfV"
      },
      "execution_count": null,
      "outputs": []
    },
    {
      "cell_type": "markdown",
      "source": [
        "9. Can lists contain different data types in Python?\n",
        "  - Yes, Python lists are heterogeneous, meaning they can store elements of different data types."
      ],
      "metadata": {
        "id": "rwXSGVulEka0"
      }
    },
    {
      "cell_type": "code",
      "source": [],
      "metadata": {
        "id": "mO7hIXT0Eq6J"
      },
      "execution_count": null,
      "outputs": []
    },
    {
      "cell_type": "markdown",
      "source": [
        "10. Explain why strings are immutable in Python.\n",
        "  - Strings are immutable for performance, security, and thread safety. Changing a string creates a new object rather than modifying the original.\n",
        "\n"
      ],
      "metadata": {
        "id": "EZ4PDo3CEsha"
      }
    },
    {
      "cell_type": "code",
      "source": [],
      "metadata": {
        "id": "OLSQCsZKEs6S"
      },
      "execution_count": null,
      "outputs": []
    },
    {
      "cell_type": "markdown",
      "source": [
        "11. What advantages do dictionaries offer over lists for certain tasks?\n",
        "\n",
        "  - Dictionaries offer faster lookups (O(1) average) and associative mapping using keys, which is more efficient than searching in lists (O(n)).\n",
        "\n"
      ],
      "metadata": {
        "id": "tBJmeHR1Eu76"
      }
    },
    {
      "cell_type": "code",
      "source": [],
      "metadata": {
        "id": "YxvDcXK6EwkB"
      },
      "execution_count": null,
      "outputs": []
    },
    {
      "cell_type": "markdown",
      "source": [
        "12. Describe a scenario where using a tuple would be preferable over a list.\n",
        "  - When you need to store constant configuration data or keys in a dictionary, a tuple is preferred for immutability and hashability.\n",
        "\n"
      ],
      "metadata": {
        "id": "ek5iydKYExPK"
      }
    },
    {
      "cell_type": "code",
      "source": [],
      "metadata": {
        "id": "28U7jHLoE02o"
      },
      "execution_count": null,
      "outputs": []
    },
    {
      "cell_type": "markdown",
      "source": [
        "13. How do sets handle duplicate values in Python?\n",
        "  - Sets automatically discard duplicates, ensuring that each element appears only once."
      ],
      "metadata": {
        "id": "gzQtRwRfE4oq"
      }
    },
    {
      "cell_type": "code",
      "source": [],
      "metadata": {
        "id": "pMux6fxPE6uJ"
      },
      "execution_count": null,
      "outputs": []
    },
    {
      "cell_type": "markdown",
      "source": [
        "14. How does the “in” keyword work differently for lists and dictionaries?\n",
        "\n",
        "  - List: Checks for element presence.\n",
        "\n",
        "  - Dictionary: Checks for key presence, not values"
      ],
      "metadata": {
        "id": "f1m3lDLjE7Yq"
      }
    },
    {
      "cell_type": "code",
      "source": [],
      "metadata": {
        "id": "C6Gi8odxE-vN"
      },
      "execution_count": null,
      "outputs": []
    },
    {
      "cell_type": "markdown",
      "source": [
        "15. Can you modify the elements of a tuple? Explain why or why not.\n",
        "\n",
        "  - No, tuples are immutable, so you cannot modify their contents once created."
      ],
      "metadata": {
        "id": "Fic0aH38FD4Z"
      }
    },
    {
      "cell_type": "code",
      "source": [],
      "metadata": {
        "id": "JZcrmWjMFSmk"
      },
      "execution_count": null,
      "outputs": []
    },
    {
      "cell_type": "markdown",
      "source": [
        "16. What is a nested dictionary, and give an example of its use case?\n",
        "\n",
        "  - A nested dictionary is a dictionary inside another dictionary.\n",
        "\n",
        "Example:"
      ],
      "metadata": {
        "id": "NSwRTxJAFUMp"
      }
    },
    {
      "cell_type": "code",
      "source": [
        "student = {\n",
        "    \"name\": \"vivek\",\n",
        "    \"marks\": {\"math\": 90, \"science\": 85}\n",
        "}\n"
      ],
      "metadata": {
        "id": "of4H9famFUs3"
      },
      "execution_count": null,
      "outputs": []
    },
    {
      "cell_type": "code",
      "source": [],
      "metadata": {
        "id": "3OEiEPPUFZL4"
      },
      "execution_count": null,
      "outputs": []
    },
    {
      "cell_type": "markdown",
      "source": [
        "17. Describe the time complexity of accessing elements in a dictionary.\n",
        "\n",
        "  - Accessing an element by key in a dictionary has average time complexity of O(1)."
      ],
      "metadata": {
        "id": "L94tY5t1FfF6"
      }
    },
    {
      "cell_type": "code",
      "source": [],
      "metadata": {
        "id": "xPr06v2TFgxG"
      },
      "execution_count": null,
      "outputs": []
    },
    {
      "cell_type": "markdown",
      "source": [
        "18. In what situations are lists preferred over dictionaries?\n",
        "  \n",
        "  - When order matters, or you're dealing with simple sequences of items where key-value mapping isn’t needed."
      ],
      "metadata": {
        "id": "YipmbBhTFvRi"
      }
    },
    {
      "cell_type": "code",
      "source": [],
      "metadata": {
        "id": "WnL9r5ZXFy4r"
      },
      "execution_count": null,
      "outputs": []
    },
    {
      "cell_type": "markdown",
      "source": [
        "19. Why are dictionaries considered unordered, and how does that affect data retrieval?\n",
        "\n",
        "  - In older Python versions (<3.7), dictionaries were unordered. In modern versions (≥3.7), insertion order is preserved, but conceptually, dictionaries are still used for key-based access, not sequence-based, which affects ordered iteration."
      ],
      "metadata": {
        "id": "esQKbA0UFzaa"
      }
    },
    {
      "cell_type": "code",
      "source": [],
      "metadata": {
        "id": "1q0vIKV5F4Do"
      },
      "execution_count": null,
      "outputs": []
    },
    {
      "cell_type": "markdown",
      "source": [
        "20. Explain the difference between a list and a dictionary in terms of data retrieval.\n",
        "\n",
        "  - List: Access by index (O(1))\n",
        "\n",
        "  - Dictionary: Access by key (O(1)) Dictionaries are better for associative access, lists for positional access.\n",
        "\n"
      ],
      "metadata": {
        "id": "WrXimRaYF587"
      }
    },
    {
      "cell_type": "code",
      "source": [],
      "metadata": {
        "id": "exBYXkK6F-Jn"
      },
      "execution_count": null,
      "outputs": []
    },
    {
      "cell_type": "markdown",
      "source": [
        "# Practical Questions"
      ],
      "metadata": {
        "id": "yxJ6Io20GAdq"
      }
    },
    {
      "cell_type": "markdown",
      "source": [],
      "metadata": {
        "id": "h2_UqPlQGAU5"
      }
    },
    {
      "cell_type": "code",
      "source": [
        "# 1\n",
        "name = \"vivek sinha\"\n",
        "print(name)\n",
        "\n"
      ],
      "metadata": {
        "colab": {
          "base_uri": "https://localhost:8080/"
        },
        "id": "Oh-zVCIwG_p7",
        "outputId": "1eb42387-360c-4504-ec51-3d3a80e97228"
      },
      "execution_count": null,
      "outputs": [
        {
          "output_type": "stream",
          "name": "stdout",
          "text": [
            "vivek sinha\n"
          ]
        }
      ]
    },
    {
      "cell_type": "code",
      "source": [
        "# 2\n",
        "print(len(\"Hello World\"))\n",
        "\n"
      ],
      "metadata": {
        "colab": {
          "base_uri": "https://localhost:8080/"
        },
        "id": "zVOAzJ-lHVqm",
        "outputId": "ac344c1c-4be7-40e6-81c2-dea5437bb45e"
      },
      "execution_count": null,
      "outputs": [
        {
          "output_type": "stream",
          "name": "stdout",
          "text": [
            "11\n"
          ]
        }
      ]
    },
    {
      "cell_type": "code",
      "source": [
        "# 3\n",
        "print(\"Python Programming\"[:3])\n",
        "\n"
      ],
      "metadata": {
        "colab": {
          "base_uri": "https://localhost:8080/"
        },
        "id": "e29Lm0T-Hdnn",
        "outputId": "f5a87d74-644f-42d9-e2db-04fe5bc8f5cf"
      },
      "execution_count": null,
      "outputs": [
        {
          "output_type": "stream",
          "name": "stdout",
          "text": [
            "Pyt\n"
          ]
        }
      ]
    },
    {
      "cell_type": "code",
      "source": [
        "# 4\n",
        "print(\"hello\".upper())\n",
        "\n"
      ],
      "metadata": {
        "colab": {
          "base_uri": "https://localhost:8080/"
        },
        "id": "GSvoopUAHgFz",
        "outputId": "d3e023dc-7ede-4c6f-ee69-80342c5560b6"
      },
      "execution_count": null,
      "outputs": [
        {
          "output_type": "stream",
          "name": "stdout",
          "text": [
            "HELLO\n"
          ]
        }
      ]
    },
    {
      "cell_type": "code",
      "source": [
        "# 5\n",
        "print(\"I like apple\".replace(\"apple\", \"orange\"))\n",
        "\n"
      ],
      "metadata": {
        "colab": {
          "base_uri": "https://localhost:8080/"
        },
        "id": "aHH2DSTjHh19",
        "outputId": "fc22c5fb-5b35-4667-ccd6-455acb24faba"
      },
      "execution_count": null,
      "outputs": [
        {
          "output_type": "stream",
          "name": "stdout",
          "text": [
            "I like orange\n"
          ]
        }
      ]
    },
    {
      "cell_type": "code",
      "source": [
        "# 6\n",
        "print(list(range(1, 6)))\n",
        "\n"
      ],
      "metadata": {
        "colab": {
          "base_uri": "https://localhost:8080/"
        },
        "id": "ZW2dgfJfHk_W",
        "outputId": "463f5de1-39ac-4401-c199-7171b80540ad"
      },
      "execution_count": null,
      "outputs": [
        {
          "output_type": "stream",
          "name": "stdout",
          "text": [
            "[1, 2, 3, 4, 5]\n"
          ]
        }
      ]
    },
    {
      "cell_type": "code",
      "source": [
        "# 7\n",
        "lst = [1, 2, 3, 4]\n",
        "lst.append(10)\n",
        "print(lst)\n",
        "\n"
      ],
      "metadata": {
        "colab": {
          "base_uri": "https://localhost:8080/"
        },
        "id": "VjsD1D43Hmzc",
        "outputId": "5a3dbfb3-c4c5-4412-a23c-c22f5347f6cb"
      },
      "execution_count": null,
      "outputs": [
        {
          "output_type": "stream",
          "name": "stdout",
          "text": [
            "[1, 2, 3, 4, 10]\n"
          ]
        }
      ]
    },
    {
      "cell_type": "code",
      "source": [
        "# 8\n",
        "lst = [1, 2, 3, 4, 5]\n",
        "lst.remove(3)\n",
        "print(lst)\n",
        "\n"
      ],
      "metadata": {
        "colab": {
          "base_uri": "https://localhost:8080/"
        },
        "id": "6D958ZrIHqCU",
        "outputId": "dbcd0155-85c3-41d9-cc46-2db8b7c3ae05"
      },
      "execution_count": null,
      "outputs": [
        {
          "output_type": "stream",
          "name": "stdout",
          "text": [
            "[1, 2, 4, 5]\n"
          ]
        }
      ]
    },
    {
      "cell_type": "code",
      "source": [
        "# 9\n",
        "letters = ['a', 'b', 'c', 'd']\n",
        "print(letters[1])\n",
        "\n"
      ],
      "metadata": {
        "colab": {
          "base_uri": "https://localhost:8080/"
        },
        "id": "RMXzo3x-HsyN",
        "outputId": "d89e1215-f89f-491a-f496-85c11d03d30f"
      },
      "execution_count": null,
      "outputs": [
        {
          "output_type": "stream",
          "name": "stdout",
          "text": [
            "b\n"
          ]
        }
      ]
    },
    {
      "cell_type": "code",
      "source": [
        "# 10\n",
        "lst = [10, 20, 30, 40, 50]\n",
        "print(lst[::-1])"
      ],
      "metadata": {
        "colab": {
          "base_uri": "https://localhost:8080/"
        },
        "id": "vdX1-AOdHuuX",
        "outputId": "075ab6a0-d161-43ab-c5f5-1fd803ea2ee2"
      },
      "execution_count": null,
      "outputs": [
        {
          "output_type": "stream",
          "name": "stdout",
          "text": [
            "[50, 40, 30, 20, 10]\n"
          ]
        }
      ]
    },
    {
      "cell_type": "code",
      "source": [
        "# 11\n",
        "t = (100, 200, 300)\n",
        "print(t)\n",
        "\n"
      ],
      "metadata": {
        "colab": {
          "base_uri": "https://localhost:8080/"
        },
        "id": "8v7t--j5HvHu",
        "outputId": "f3449530-1097-43dd-f6fb-dc238653f97f"
      },
      "execution_count": null,
      "outputs": [
        {
          "output_type": "stream",
          "name": "stdout",
          "text": [
            "(100, 200, 300)\n"
          ]
        }
      ]
    },
    {
      "cell_type": "code",
      "source": [
        "# 12\n",
        "colors = ('red', 'green', 'blue', 'yellow')\n",
        "print(colors[-2])\n",
        "\n"
      ],
      "metadata": {
        "colab": {
          "base_uri": "https://localhost:8080/"
        },
        "id": "Xf2xdEURH6p8",
        "outputId": "ceddd44f-6913-4ce2-9855-c1784a246cce"
      },
      "execution_count": null,
      "outputs": [
        {
          "output_type": "stream",
          "name": "stdout",
          "text": [
            "blue\n"
          ]
        }
      ]
    },
    {
      "cell_type": "code",
      "source": [
        "# 13\n",
        "t = (10, 20, 5, 15)\n",
        "print(min(t))\n",
        "\n"
      ],
      "metadata": {
        "colab": {
          "base_uri": "https://localhost:8080/"
        },
        "id": "mw-r-8EdIAkB",
        "outputId": "02e64e08-756d-41e4-b48b-866e129674a2"
      },
      "execution_count": null,
      "outputs": [
        {
          "output_type": "stream",
          "name": "stdout",
          "text": [
            "5\n"
          ]
        }
      ]
    },
    {
      "cell_type": "code",
      "source": [
        "# 14\n",
        "animals = ('dog', 'cat', 'rabbit')\n",
        "print(animals.index('cat'))\n",
        "\n"
      ],
      "metadata": {
        "colab": {
          "base_uri": "https://localhost:8080/"
        },
        "id": "IQ82tovoICWP",
        "outputId": "5ee50872-1117-4401-86b6-3be64e803cd8"
      },
      "execution_count": null,
      "outputs": [
        {
          "output_type": "stream",
          "name": "stdout",
          "text": [
            "1\n"
          ]
        }
      ]
    },
    {
      "cell_type": "code",
      "source": [
        "# 15\n",
        "fruits = ('apple', 'banana', 'cherry')\n",
        "print(\"kiwi\" in fruits)\n",
        "\n"
      ],
      "metadata": {
        "colab": {
          "base_uri": "https://localhost:8080/"
        },
        "id": "Pu5JyQhjIFDO",
        "outputId": "356cc4a1-2c42-48df-bb8a-0f087995fe49"
      },
      "execution_count": null,
      "outputs": [
        {
          "output_type": "stream",
          "name": "stdout",
          "text": [
            "False\n"
          ]
        }
      ]
    },
    {
      "cell_type": "code",
      "source": [
        "# 16\n",
        "s = {'a', 'b', 'c'}\n",
        "print(s)\n",
        "\n"
      ],
      "metadata": {
        "colab": {
          "base_uri": "https://localhost:8080/"
        },
        "id": "xmhS_N2VIGl5",
        "outputId": "674d64e4-b92f-4bb5-bf0a-e909689942d9"
      },
      "execution_count": null,
      "outputs": [
        {
          "output_type": "stream",
          "name": "stdout",
          "text": [
            "{'a', 'c', 'b'}\n"
          ]
        }
      ]
    },
    {
      "cell_type": "code",
      "source": [
        "# 17\n",
        "s = {1, 2, 3, 4, 5}\n",
        "s.clear()\n",
        "print(s)\n",
        "\n"
      ],
      "metadata": {
        "colab": {
          "base_uri": "https://localhost:8080/"
        },
        "id": "skhYjMvzIIyN",
        "outputId": "5f4f4a03-c120-4a2c-8fdb-b92df2147d5c"
      },
      "execution_count": null,
      "outputs": [
        {
          "output_type": "stream",
          "name": "stdout",
          "text": [
            "set()\n"
          ]
        }
      ]
    },
    {
      "cell_type": "code",
      "source": [
        "# 18\n",
        "s = {1, 2, 3, 4}\n",
        "s.remove(4)\n",
        "print(s)\n",
        "\n"
      ],
      "metadata": {
        "colab": {
          "base_uri": "https://localhost:8080/"
        },
        "id": "X5XgLkMdIKUG",
        "outputId": "8c53c9fb-e4be-4f47-c8fb-9be8cf867f4f"
      },
      "execution_count": null,
      "outputs": [
        {
          "output_type": "stream",
          "name": "stdout",
          "text": [
            "{1, 2, 3}\n"
          ]
        }
      ]
    },
    {
      "cell_type": "code",
      "source": [
        "# 19\n",
        "set1 = {1, 2, 3}\n",
        "set2 = {3, 4, 5}\n",
        "print(set1.union(set2))\n",
        "\n",
        "\n"
      ],
      "metadata": {
        "colab": {
          "base_uri": "https://localhost:8080/"
        },
        "id": "QKcdwIMpIL1x",
        "outputId": "57197e23-75d4-4492-cf5d-f468f5953587"
      },
      "execution_count": null,
      "outputs": [
        {
          "output_type": "stream",
          "name": "stdout",
          "text": [
            "{1, 2, 3, 4, 5}\n"
          ]
        }
      ]
    },
    {
      "cell_type": "code",
      "source": [
        "# 20\n",
        "print(set1.intersection(set2))"
      ],
      "metadata": {
        "colab": {
          "base_uri": "https://localhost:8080/"
        },
        "id": "wAlte2OLINrk",
        "outputId": "dde1067c-3821-4c2a-d0dd-0239881529d6"
      },
      "execution_count": null,
      "outputs": [
        {
          "output_type": "stream",
          "name": "stdout",
          "text": [
            "{3}\n"
          ]
        }
      ]
    },
    {
      "cell_type": "code",
      "source": [
        "# 21\n",
        "d = {\"name\": \"vivek\", \"age\": 22, \"city\": \"New delhi\"}\n",
        "print(d)\n",
        "\n"
      ],
      "metadata": {
        "colab": {
          "base_uri": "https://localhost:8080/"
        },
        "id": "7TPJM-x2IOB4",
        "outputId": "d7baf241-6953-4d98-a6e8-a8f274dd83df"
      },
      "execution_count": null,
      "outputs": [
        {
          "output_type": "stream",
          "name": "stdout",
          "text": [
            "{'name': 'vivek', 'age': 22, 'city': 'New delhi'}\n"
          ]
        }
      ]
    },
    {
      "cell_type": "code",
      "source": [
        "# 22\n",
        "d = {'name': 'vivek', 'age': 22}\n",
        "d['country'] = 'india'\n",
        "print(d)\n",
        "\n"
      ],
      "metadata": {
        "colab": {
          "base_uri": "https://localhost:8080/"
        },
        "id": "SCwzkkP8IjfY",
        "outputId": "b3307411-4800-4e29-a40e-ac5bcdbbcc80"
      },
      "execution_count": null,
      "outputs": [
        {
          "output_type": "stream",
          "name": "stdout",
          "text": [
            "{'name': 'vivek', 'age': 22, 'country': 'india'}\n"
          ]
        }
      ]
    },
    {
      "cell_type": "code",
      "source": [
        "# 23\n",
        "d = {'name': 'vivek sinha', 'age': 22}\n",
        "print(d['name'])\n",
        "\n"
      ],
      "metadata": {
        "colab": {
          "base_uri": "https://localhost:8080/"
        },
        "id": "cx1IsCL3Iql8",
        "outputId": "6da326c4-7a90-4eed-c75e-096691e5a68a"
      },
      "execution_count": null,
      "outputs": [
        {
          "output_type": "stream",
          "name": "stdout",
          "text": [
            "vivek sinha\n"
          ]
        }
      ]
    },
    {
      "cell_type": "code",
      "source": [
        "# 24\n",
        "d = {'name': 'Bob', 'age': 22, 'city': 'New York'}\n",
        "del d['age']\n",
        "print(d)\n",
        "\n"
      ],
      "metadata": {
        "colab": {
          "base_uri": "https://localhost:8080/"
        },
        "id": "n-IKMr9zIwhB",
        "outputId": "8ff03ebd-798c-4ba5-d439-dbf922c81a86"
      },
      "execution_count": null,
      "outputs": [
        {
          "output_type": "stream",
          "name": "stdout",
          "text": [
            "{'name': 'Bob', 'city': 'New York'}\n"
          ]
        }
      ]
    },
    {
      "cell_type": "code",
      "source": [
        "# 25\n",
        "d = {'name': 'Alice', 'city': 'Paris'}\n",
        "print('city' in d)\n",
        "\n"
      ],
      "metadata": {
        "colab": {
          "base_uri": "https://localhost:8080/"
        },
        "id": "Jo7XWd-II-13",
        "outputId": "b732ba00-9527-4534-89da-daecb3f452d8"
      },
      "execution_count": null,
      "outputs": [
        {
          "output_type": "stream",
          "name": "stdout",
          "text": [
            "True\n"
          ]
        }
      ]
    },
    {
      "cell_type": "code",
      "source": [
        "# 26\n",
        "lst = [1, 2, 3]\n",
        "tup = (4, 5, 6)\n",
        "dct = {'a': 1, 'b': 2}\n",
        "print(lst, tup, dct)\n",
        "\n"
      ],
      "metadata": {
        "colab": {
          "base_uri": "https://localhost:8080/"
        },
        "id": "3UJiILOGJBF1",
        "outputId": "966e2762-36ca-457c-a968-e5f2c976af65"
      },
      "execution_count": null,
      "outputs": [
        {
          "output_type": "stream",
          "name": "stdout",
          "text": [
            "[1, 2, 3] (4, 5, 6) {'a': 1, 'b': 2}\n"
          ]
        }
      ]
    },
    {
      "cell_type": "code",
      "source": [
        "# 27\n",
        "import random\n",
        "nums = random.sample(range(1, 101), 5)\n",
        "nums.sort()\n",
        "print(nums)\n",
        "\n"
      ],
      "metadata": {
        "colab": {
          "base_uri": "https://localhost:8080/"
        },
        "id": "2xIVQouVJDe6",
        "outputId": "8adc9cc8-24d7-439a-d997-2fec1e25ecc5"
      },
      "execution_count": null,
      "outputs": [
        {
          "output_type": "stream",
          "name": "stdout",
          "text": [
            "[4, 9, 22, 60, 91]\n"
          ]
        }
      ]
    },
    {
      "cell_type": "code",
      "source": [
        "# 28\n",
        "lst = ['apple', 'banana', 'cherry', 'date']\n",
        "print(lst[3])\n",
        "\n"
      ],
      "metadata": {
        "colab": {
          "base_uri": "https://localhost:8080/"
        },
        "id": "8YACScE2JFKl",
        "outputId": "b76e9f9b-6032-4130-d00f-b27cce586e3d"
      },
      "execution_count": null,
      "outputs": [
        {
          "output_type": "stream",
          "name": "stdout",
          "text": [
            "date\n"
          ]
        }
      ]
    },
    {
      "cell_type": "code",
      "source": [
        "# 29\n",
        "lst1 = ['a', 'b']\n",
        "lst2 = ['c', 'd']\n",
        "combined = lst1 + lst2\n",
        "print(combined)\n",
        "\n"
      ],
      "metadata": {
        "colab": {
          "base_uri": "https://localhost:8080/"
        },
        "id": "zGd_sGiHJG_I",
        "outputId": "cff0fe1d-bd38-4f67-ae55-da9d1fd5e3d2"
      },
      "execution_count": null,
      "outputs": [
        {
          "output_type": "stream",
          "name": "stdout",
          "text": [
            "['a', 'b', 'c', 'd']\n"
          ]
        }
      ]
    },
    {
      "cell_type": "code",
      "source": [
        "# 30\n",
        "lst = ['x', 'y', 'z']\n",
        "s = set(lst)\n",
        "print(s)\n"
      ],
      "metadata": {
        "colab": {
          "base_uri": "https://localhost:8080/"
        },
        "id": "knUwn7QAJISc",
        "outputId": "14928f87-10e5-48ad-8ba4-6213ce436191"
      },
      "execution_count": null,
      "outputs": [
        {
          "output_type": "stream",
          "name": "stdout",
          "text": [
            "{'x', 'z', 'y'}\n"
          ]
        }
      ]
    },
    {
      "cell_type": "code",
      "source": [],
      "metadata": {
        "id": "cfv015FSJI93"
      },
      "execution_count": null,
      "outputs": []
    }
  ]
}